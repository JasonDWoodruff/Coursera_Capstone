{
    "cells": [
        {
            "metadata": {
                "collapsed": true
            },
            "cell_type": "markdown",
            "source": "# Neighborhood Geocoding"
        },
        {
            "metadata": {},
            "cell_type": "code",
            "source": "import numpy as np\nimport pandas as pd\nimport requests\n\nfrom bs4 import BeautifulSoup",
            "execution_count": 85,
            "outputs": []
        },
        {
            "metadata": {},
            "cell_type": "code",
            "source": "URL = 'https://en.wikipedia.org/wiki/List_of_postal_codes_of_Canada:_M'\npage = requests.get(URL)\n\nhtml_data = BeautifulSoup(page.content, 'html.parser')\n\ntable = html_data.find(\"table\")",
            "execution_count": 86,
            "outputs": []
        },
        {
            "metadata": {},
            "cell_type": "code",
            "source": "neighborhoods = pd.DataFrame(columns=[\"PostalCode\", \"Borough\", \"Neighborhood\"])\n\nfor row in table.find(\"tbody\").find_all(\"tr\"):\n    col = row.find_all(\"td\")\n    if str(col) != '[]':\n        pcode = col[0].get_text(\"\\\\n\", strip=True)\n        borough = col[1].get_text(\"\\\\n\", strip=True)\n        neighborhood = col[2].get_text(\"\\\\n\", strip=True)\n\n        neighborhoods = neighborhoods.append({\"PostalCode\":pcode, \"Borough\":borough, \"Neighborhood\":neighborhood}, ignore_index=True)",
            "execution_count": 87,
            "outputs": []
        },
        {
            "metadata": {},
            "cell_type": "code",
            "source": "neighborhoods['Borough'].replace('Not assigned', np.nan, inplace=True)\nneighborhoods.dropna(inplace=True)",
            "execution_count": 88,
            "outputs": []
        },
        {
            "metadata": {},
            "cell_type": "code",
            "source": "neighborhoods.shape",
            "execution_count": 90,
            "outputs": [
                {
                    "output_type": "execute_result",
                    "execution_count": 90,
                    "data": {
                        "text/plain": "(103, 3)"
                    },
                    "metadata": {}
                }
            ]
        },
        {
            "metadata": {},
            "cell_type": "code",
            "source": "file_name ='https://cocl.us/Geospatial_data/Geospatial_Coordinates.csv'\ngeocodes = pd.read_csv(file_name)\ngeocodes.rename(columns={'Postal Code':'PostalCode'}, inplace=True)",
            "execution_count": 91,
            "outputs": []
        },
        {
            "metadata": {},
            "cell_type": "code",
            "source": "neighborhoods = neighborhoods.merge(geocodes, how='inner',on='PostalCode')",
            "execution_count": 92,
            "outputs": []
        },
        {
            "metadata": {},
            "cell_type": "code",
            "source": "neighborhoods.head()",
            "execution_count": 93,
            "outputs": [
                {
                    "output_type": "execute_result",
                    "execution_count": 93,
                    "data": {
                        "text/plain": "  PostalCode           Borough                                 Neighborhood  \\\n0        M3A        North York                                    Parkwoods   \n1        M4A        North York                             Victoria Village   \n2        M5A  Downtown Toronto                    Regent Park, Harbourfront   \n3        M6A        North York             Lawrence Manor, Lawrence Heights   \n4        M7A  Downtown Toronto  Queen's Park, Ontario Provincial Government   \n\n    Latitude  Longitude  \n0  43.753259 -79.329656  \n1  43.725882 -79.315572  \n2  43.654260 -79.360636  \n3  43.718518 -79.464763  \n4  43.662301 -79.389494  ",
                        "text/html": "<div>\n<style scoped>\n    .dataframe tbody tr th:only-of-type {\n        vertical-align: middle;\n    }\n\n    .dataframe tbody tr th {\n        vertical-align: top;\n    }\n\n    .dataframe thead th {\n        text-align: right;\n    }\n</style>\n<table border=\"1\" class=\"dataframe\">\n  <thead>\n    <tr style=\"text-align: right;\">\n      <th></th>\n      <th>PostalCode</th>\n      <th>Borough</th>\n      <th>Neighborhood</th>\n      <th>Latitude</th>\n      <th>Longitude</th>\n    </tr>\n  </thead>\n  <tbody>\n    <tr>\n      <th>0</th>\n      <td>M3A</td>\n      <td>North York</td>\n      <td>Parkwoods</td>\n      <td>43.753259</td>\n      <td>-79.329656</td>\n    </tr>\n    <tr>\n      <th>1</th>\n      <td>M4A</td>\n      <td>North York</td>\n      <td>Victoria Village</td>\n      <td>43.725882</td>\n      <td>-79.315572</td>\n    </tr>\n    <tr>\n      <th>2</th>\n      <td>M5A</td>\n      <td>Downtown Toronto</td>\n      <td>Regent Park, Harbourfront</td>\n      <td>43.654260</td>\n      <td>-79.360636</td>\n    </tr>\n    <tr>\n      <th>3</th>\n      <td>M6A</td>\n      <td>North York</td>\n      <td>Lawrence Manor, Lawrence Heights</td>\n      <td>43.718518</td>\n      <td>-79.464763</td>\n    </tr>\n    <tr>\n      <th>4</th>\n      <td>M7A</td>\n      <td>Downtown Toronto</td>\n      <td>Queen's Park, Ontario Provincial Government</td>\n      <td>43.662301</td>\n      <td>-79.389494</td>\n    </tr>\n  </tbody>\n</table>\n</div>"
                    },
                    "metadata": {}
                }
            ]
        },
        {
            "metadata": {},
            "cell_type": "code",
            "source": "",
            "execution_count": null,
            "outputs": []
        }
    ],
    "metadata": {
        "kernelspec": {
            "name": "python3",
            "display_name": "Python 3.7",
            "language": "python"
        },
        "language_info": {
            "name": "python",
            "version": "3.7.9",
            "mimetype": "text/x-python",
            "codemirror_mode": {
                "name": "ipython",
                "version": 3
            },
            "pygments_lexer": "ipython3",
            "nbconvert_exporter": "python",
            "file_extension": ".py"
        }
    },
    "nbformat": 4,
    "nbformat_minor": 1
}