{
    "cells": [
        {
            "metadata": {
                "collapsed": true
            },
            "cell_type": "markdown",
            "source": "# Neighborhood Segmentation and Clustering"
        },
        {
            "metadata": {},
            "cell_type": "code",
            "source": "import numpy as np\nimport pandas as pd\nimport requests\n\nfrom bs4 import BeautifulSoup",
            "execution_count": 1,
            "outputs": []
        },
        {
            "metadata": {},
            "cell_type": "code",
            "source": "URL = 'https://en.wikipedia.org/wiki/List_of_postal_codes_of_Canada:_M'\npage = requests.get(URL)\n\nhtml_data = BeautifulSoup(page.content, 'html.parser')\n\ntable = html_data.find(\"table\")",
            "execution_count": 2,
            "outputs": []
        },
        {
            "metadata": {},
            "cell_type": "code",
            "source": "neighborhoods = pd.DataFrame(columns=[\"PostalCode\", \"Borough\", \"Neighborhood\"])\n\nfor row in table.find(\"tbody\").find_all(\"tr\"):\n    col = row.find_all(\"td\")\n    if str(col) != '[]':\n        pcode = col[0].get_text(\"\\\\n\", strip=True)\n        borough = col[1].get_text(\"\\\\n\", strip=True)\n        neighborhood = col[2].get_text(\"\\\\n\", strip=True)\n\n        neighborhoods = neighborhoods.append({\"PostalCode\":pcode, \"Borough\":borough, \"Neighborhood\":neighborhood}, ignore_index=True)",
            "execution_count": 4,
            "outputs": []
        },
        {
            "metadata": {},
            "cell_type": "code",
            "source": "neighborhoods['Borough'].replace('Not assigned', np.nan, inplace=True)\nneighborhoods.dropna(inplace=True)",
            "execution_count": 5,
            "outputs": []
        },
        {
            "metadata": {},
            "cell_type": "markdown",
            "source": "### **Wiki appears to have cleaned the data and so these don't actually do anything.**"
        },
        {
            "metadata": {},
            "cell_type": "code",
            "source": "#neighborhoods.groupby(['PostalCode','Borough'], axis=1).agg(lambda x: ','.join(x.values))\n#neighborhoods['Neighborhood'].replace('Not assigned', neighborhoods['Borough'], inplace=True)",
            "execution_count": 6,
            "outputs": []
        },
        {
            "metadata": {},
            "cell_type": "code",
            "source": "neighborhoods.shape",
            "execution_count": 7,
            "outputs": [
                {
                    "output_type": "execute_result",
                    "execution_count": 7,
                    "data": {
                        "text/plain": "(103, 3)"
                    },
                    "metadata": {}
                }
            ]
        },
        {
            "metadata": {},
            "cell_type": "code",
            "source": "",
            "execution_count": null,
            "outputs": []
        }
    ],
    "metadata": {
        "kernelspec": {
            "name": "python3",
            "display_name": "Python 3.7",
            "language": "python"
        },
        "language_info": {
            "name": "python",
            "version": "3.7.9",
            "mimetype": "text/x-python",
            "codemirror_mode": {
                "name": "ipython",
                "version": 3
            },
            "pygments_lexer": "ipython3",
            "nbconvert_exporter": "python",
            "file_extension": ".py"
        }
    },
    "nbformat": 4,
    "nbformat_minor": 1
}